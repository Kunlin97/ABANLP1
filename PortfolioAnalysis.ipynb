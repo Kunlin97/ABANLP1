{
 "cells": [
  {
   "cell_type": "code",
   "execution_count": 1,
   "source": [
    "from scipy.optimize import minimize\n",
    "from numpy import mean\n",
    "import numpy as np\n",
    "import pandas as pd"
   ],
   "outputs": [],
   "metadata": {}
  },
  {
   "cell_type": "code",
   "execution_count": 2,
   "source": [
    "# Loading data\n",
    "df1 = pd.read_excel('PortfolioAnalysis.xlsx', header=1,)\n",
    "\n",
    "Data=np.array(df1)\n",
    "DataT=np.transpose(Data)\n",
    "\n",
    "# Calculate the average annual returns for all portfolio members.\n",
    "averages=[]\n",
    "for annualReturn in DataT:\n",
    "    averages.append(np.mean(annualReturn))\n",
    "# Calculate the covariance matrix\n",
    "covMatrix = np.cov(DataT, bias=True)"
   ],
   "outputs": [],
   "metadata": {}
  },
  {
   "cell_type": "code",
   "execution_count": 3,
   "source": [
    "# Define the constraints.\n",
    "# Constraint 0: The sum of all members of portfolio x equals 100%\n",
    "def constraint0(x):\n",
    "    sum=1\n",
    "    for xi in x:\n",
    "        sum -= xi\n",
    "    return sum\n",
    "\n",
    "# Constraint 1: The annual return must be greater than 12%\n",
    "def constraint1(x):\n",
    "    annualReturn=0.12\n",
    "    expectedReturn = np.dot(x,averages)\n",
    "    return annualReturn-expectedReturn\n",
    "\n",
    "# Define the objective function which calculates the variance of a giving portfolio x\n",
    "def objective(x):\n",
    "    return np.sum(np.dot(x,covMatrix)*x)"
   ],
   "outputs": [],
   "metadata": {}
  },
  {
   "cell_type": "code",
   "execution_count": 4,
   "source": [
    "# Defining the initial value. You may need to try different initial values to avoid local minimum.\n",
    "x0=np.array([0.2,0.6,0.1])\n",
    "\n",
    "# (Optional) Add bounds for your conditions.\n",
    "b=(0,1)\n",
    "bnds=(b,b,b)\n",
    "\n",
    "con0 = {'type': 'eq', 'fun': constraint0}\n",
    "con1 = {'type': 'ineq', 'fun': constraint1}\n",
    "cons=[con0, con1]\n",
    "\n",
    "sol=minimize(objective,x0,bounds=bnds,constraints=cons)\n",
    "# Print the solution\n",
    "print(sol)\n",
    "\n",
    "print('Variance =', objective(sol.x))"
   ],
   "outputs": [
    {
     "output_type": "stream",
     "name": "stdout",
     "text": [
      "     fun: 0.0011096526917627819\n",
      "     jac: array([0.00193486, 0.0023764 , 0.00203785])\n",
      " message: 'Optimization terminated successfully'\n",
      "    nfev: 20\n",
      "     nit: 5\n",
      "    njev: 5\n",
      "  status: 0\n",
      " success: True\n",
      "       x: array([0.29062479, 0.62438178, 0.08499344])\n",
      "Variance = 0.0011096526917627819\n"
     ]
    }
   ],
   "metadata": {}
  }
 ],
 "metadata": {
  "orig_nbformat": 4,
  "language_info": {
   "name": "python",
   "version": "3.9.6",
   "mimetype": "text/x-python",
   "codemirror_mode": {
    "name": "ipython",
    "version": 3
   },
   "pygments_lexer": "ipython3",
   "nbconvert_exporter": "python",
   "file_extension": ".py"
  },
  "kernelspec": {
   "name": "python3",
   "display_name": "Python 3.9.6 64-bit ('base': conda)"
  },
  "interpreter": {
   "hash": "7cc1fb44cda6d6ce4a0e7446775551d7e610375bd71d5e0995a52ad979a28352"
  }
 },
 "nbformat": 4,
 "nbformat_minor": 2
}