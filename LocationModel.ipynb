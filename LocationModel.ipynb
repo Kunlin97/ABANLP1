{
 "cells": [
  {
   "cell_type": "code",
   "execution_count": 1,
   "source": [
    "from scipy.optimize import minimize\n",
    "from math import sqrt\n",
    "import pandas as pd"
   ],
   "outputs": [],
   "metadata": {}
  },
  {
   "cell_type": "code",
   "execution_count": 2,
   "source": [
    "# Load data\n",
    "customers=[]\n",
    "\n",
    "df = pd.read_excel('LocationModelPy.xlsx', header=1)\n",
    "for row in df.itertuples():\n",
    "    customers.append(tuple(row)[1:])\n",
    "\n",
    "print(customers)"
   ],
   "outputs": [
    {
     "output_type": "stream",
     "name": "stdout",
     "text": [
      "[(5, 10, 200), (10, 5, 150), (0, 12, 200), (12, 0, 300)]\n"
     ]
    }
   ],
   "metadata": {}
  },
  {
   "cell_type": "code",
   "execution_count": 3,
   "source": [
    "# Define objective function\n",
    "def objective(params):\n",
    "    x, y=params\n",
    "    cost=[]\n",
    "    for customer in customers:\n",
    "        cost.append(customer[2]*sqrt((x-customer[0])**2+(y-customer[1])**2))\n",
    "    return sum(cost)"
   ],
   "outputs": [],
   "metadata": {}
  },
  {
   "cell_type": "code",
   "execution_count": 4,
   "source": [
    "# Choose the initial value\n",
    "x0=[0,0]\n",
    "Sol=minimize(objective, x0)\n",
    "# Print the results\n",
    "print(Sol)"
   ],
   "outputs": [
    {
     "output_type": "stream",
     "name": "stdout",
     "text": [
      "      fun: 5456.539687512874\n",
      " hess_inv: array([[ 0.01876293, -0.00400527],\n",
      "       [-0.00400527,  0.00478159]])\n",
      "      jac: array([0., 0.])\n",
      "  message: 'Optimization terminated successfully.'\n",
      "     nfev: 48\n",
      "      nit: 13\n",
      "     njev: 16\n",
      "   status: 0\n",
      "  success: True\n",
      "        x: array([9.3141649 , 5.02870525])\n"
     ]
    }
   ],
   "metadata": {}
  }
 ],
 "metadata": {
  "orig_nbformat": 4,
  "language_info": {
   "name": "python",
   "version": "3.9.6",
   "mimetype": "text/x-python",
   "codemirror_mode": {
    "name": "ipython",
    "version": 3
   },
   "pygments_lexer": "ipython3",
   "nbconvert_exporter": "python",
   "file_extension": ".py"
  },
  "kernelspec": {
   "name": "python3",
   "display_name": "Python 3.9.6 64-bit ('base': conda)"
  },
  "interpreter": {
   "hash": "7cc1fb44cda6d6ce4a0e7446775551d7e610375bd71d5e0995a52ad979a28352"
  }
 },
 "nbformat": 4,
 "nbformat_minor": 2
}