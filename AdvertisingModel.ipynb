{
 "cells": [
  {
   "cell_type": "code",
   "execution_count": 1,
   "source": [
    "from scipy.optimize import minimize\n",
    "import numpy as np\n",
    "from math import exp\n",
    "import pandas as pd\n",
    "from itertools import combinations,product"
   ],
   "outputs": [],
   "metadata": {}
  },
  {
   "cell_type": "code",
   "execution_count": 2,
   "source": [
    "# Importing data\n",
    "medias=[]\n",
    "\n",
    "df1 = pd.read_excel('AdvertisingModel.xlsx', header=1,sheet_name=\"AM1\")\n",
    "for row in df1.itertuples():\n",
    "    medias.append(tuple(row)[2:])\n",
    "\n",
    "RequiredExposures=[60,60,28,60,60,28]"
   ],
   "outputs": [],
   "metadata": {}
  },
  {
   "cell_type": "code",
   "execution_count": 3,
   "source": [
    "# Defining the objective function\n",
    "def objective(x):\n",
    "    cost=0\n",
    "    for idx, media in enumerate(medias):\n",
    "        cost += x[idx]*media[12] \n",
    "    return cost\n",
    "# Defining the six according constraints for the six segmentations of people\n",
    "def constraint0(x):\n",
    "    exposure=0\n",
    "    for idx, media in enumerate(medias):\n",
    "        exposure += media[0]*(1-exp(-media[6]*x[idx]))\n",
    "    return exposure-RequiredExposures[0]\n",
    "\n",
    "def constraint1(x):\n",
    "    exposure=0\n",
    "    for idx, media in enumerate(medias):\n",
    "        exposure += media[1]*(1-exp(-media[7]*x[idx]))\n",
    "    return exposure-RequiredExposures[1]\n",
    "\n",
    "def constraint2(x):\n",
    "    exposure=0\n",
    "    for idx, media in enumerate(medias):\n",
    "        exposure += media[2]*(1-exp(-media[8]*x[idx]))\n",
    "    return exposure-RequiredExposures[2]\n",
    "\n",
    "def constraint3(x):\n",
    "    exposure=0\n",
    "    for idx, media in enumerate(medias):\n",
    "        exposure += media[3]*(1-exp(-media[9]*x[idx]))\n",
    "    return exposure-RequiredExposures[3]\n",
    "\n",
    "def constraint4(x):\n",
    "    exposure=0\n",
    "    for idx, media in enumerate(medias):\n",
    "        exposure += media[4]*(1-exp(-media[10]*x[idx]))\n",
    "    return exposure-RequiredExposures[4]\n",
    "\n",
    "def constraint5(x):\n",
    "    exposure=0\n",
    "    for idx, media in enumerate(medias):\n",
    "        exposure += media[5]*(1-exp(-media[11]*x[idx]))\n",
    "    return exposure-RequiredExposures[5]"
   ],
   "outputs": [],
   "metadata": {}
  },
  {
   "cell_type": "code",
   "execution_count": 4,
   "source": [
    "# Choosing an initial value\n",
    "x0=[5,0,3,22,15,8,13,0]\n",
    "# Set bounds for positive values\n",
    "b=(0,30)\n",
    "bnds=(b,b,b,b,b,b,b,b)\n",
    "con0 = {'type': 'ineq', 'fun': constraint0}\n",
    "con1 = {'type': 'ineq', 'fun': constraint1}\n",
    "con2 = {'type': 'ineq', 'fun': constraint2}\n",
    "con3 = {'type': 'ineq', 'fun': constraint3}\n",
    "con4 = {'type': 'ineq', 'fun': constraint4}\n",
    "con5 = {'type': 'ineq', 'fun': constraint5}\n",
    "cons=[con0,con1,con2,con3,con4,con5]\n",
    "sol=minimize(objective,x0, bounds=bnds,constraints=cons)\n",
    "# Print the solution regardless of integer constraints\n",
    "print(sol)"
   ],
   "outputs": [
    {
     "output_type": "stream",
     "name": "stdout",
     "text": [
      "     fun: 1555.535180785315\n",
      "     jac: array([140., 100.,  80.,   9.,  13.,  15.,   8., 140.])\n",
      " message: 'Optimization terminated successfully'\n",
      "    nfev: 101\n",
      "     nit: 11\n",
      "    njev: 11\n",
      "  status: 0\n",
      " success: True\n",
      "       x: array([4.83624129e+00, 2.51845301e-10, 2.79390963e+00, 2.18521086e+01,\n",
      "       1.62851679e+01, 8.28425992e+00, 1.52885713e+01, 3.52201822e-10])\n"
     ]
    }
   ],
   "metadata": {}
  },
  {
   "cell_type": "code",
   "execution_count": 5,
   "source": [
    "x1=np.array(sol.x)\n",
    "\n",
    "x2=[]\n",
    "for element in x1:\n",
    "    x2.append(int(element))\n",
    "\n",
    "arr=np.arange(-4,4) #change it to (-3,3) if want faster\n",
    "r=8\n",
    "\n",
    "combinations=list(product(arr, repeat=r))\n",
    "\n",
    "print('len_combinations', len(combinations))\n",
    "\n",
    "good_combinations=[]\n",
    "for combination in combinations:\n",
    "    combination=list(np.sum([combination,x2],axis=0))\n",
    "    # Ensuring all medias got a non-negative number of Ads.\n",
    "    if not any(x<0 for x in combination):\n",
    "        # Check if the exposure on different groups satifies the reuirements.\n",
    "        if constraint0(combination)>=0:\n",
    "            if constraint1(combination)>=0:\n",
    "                if constraint2(combination)>=0:\n",
    "                    if constraint3(combination)>=0:\n",
    "                        if constraint4(combination)>=0:\n",
    "                            if constraint5(combination)>=0:\n",
    "                                good_combinations.append(combination)\n",
    "# All combinations satisfies non-negative condition and all constraints would be append to list good_combinations."
   ],
   "outputs": [
    {
     "output_type": "stream",
     "name": "stdout",
     "text": [
      "len_combinations 16777216\n"
     ]
    }
   ],
   "metadata": {}
  },
  {
   "cell_type": "code",
   "execution_count": 6,
   "source": [
    "# Calculate the cost value for all valid combinations.\n",
    "values=[]\n",
    "for combination in good_combinations:\n",
    "    values.append(objective(combination))\n",
    "\n",
    "# Find the min cost value\n",
    "min_value = min(values)\n",
    "# and the indices of these values\n",
    "min_indices = [index for index, element in enumerate(values) if element == min_value]\n",
    "# And print out all the combinations which will give this minimal cost value\n",
    "for min_index in min_indices:\n",
    "    print(good_combinations[min_index])"
   ],
   "outputs": [
    {
     "output_type": "stream",
     "name": "stdout",
     "text": [
      "[5, 0, 3, 21, 15, 7, 16, 0]\n",
      "[5, 0, 3, 22, 15, 8, 13, 0]\n"
     ]
    }
   ],
   "metadata": {}
  }
 ],
 "metadata": {
  "orig_nbformat": 4,
  "language_info": {
   "name": "python",
   "version": "3.9.6",
   "mimetype": "text/x-python",
   "codemirror_mode": {
    "name": "ipython",
    "version": 3
   },
   "pygments_lexer": "ipython3",
   "nbconvert_exporter": "python",
   "file_extension": ".py"
  },
  "kernelspec": {
   "name": "python3",
   "display_name": "Python 3.9.6 64-bit ('base': conda)"
  },
  "interpreter": {
   "hash": "7cc1fb44cda6d6ce4a0e7446775551d7e610375bd71d5e0995a52ad979a28352"
  }
 },
 "nbformat": 4,
 "nbformat_minor": 2
}